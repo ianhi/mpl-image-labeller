{
 "cells": [
  {
   "cell_type": "markdown",
   "id": "cdf469e7-0110-4b75-97d5-69c25aa290f5",
   "metadata": {},
   "source": [
    "# Single Class\n"
   ]
  },
  {
   "cell_type": "code",
   "execution_count": 1,
   "id": "4a694f4d-ba0d-4ea4-b15e-db17a2fa8e61",
   "metadata": {
    "execution": {
     "iopub.execute_input": "2021-10-30T17:30:56.568961Z",
     "iopub.status.busy": "2021-10-30T17:30:56.568127Z",
     "iopub.status.idle": "2021-10-30T17:30:57.177550Z",
     "shell.execute_reply": "2021-10-30T17:30:57.176769Z",
     "shell.execute_reply.started": "2021-10-30T17:30:56.568715Z"
    },
    "tags": []
   },
   "outputs": [],
   "source": [
    "# If running in a notebook make matplotlib interactive\n",
    "%matplotlib ipympl"
   ]
  },
  {
   "cell_type": "markdown",
   "id": "8b0938f1-fab9-4127-b836-9c06a2fbc333",
   "metadata": {},
   "source": [
    "```{note}\n",
    "In a notebook you need to make sure to click on the figure in order to give it keyboard focus.\n",
    "```"
   ]
  },
  {
   "cell_type": "code",
   "execution_count": null,
   "id": "65afcfa0-1511-4721-a79a-8df969a1002f",
   "metadata": {
    "tags": []
   },
   "outputs": [],
   "source": [
    "from mpl_image_labeller import image_labeller\n",
    "import matplotlib.pyplot as plt\n",
    "import numpy as np\n",
    "images = np.random.randn(5, 10, 10)\n",
    "labeller = image_labeller(\n",
    "    images, classes=[\"good\", \"bad\", \"meh\"], label_keymap=[\"a\", \"s\", \"d\"]\n",
    ")\n",
    "plt.show()\n"
   ]
  },
  {
   "cell_type": "markdown",
   "id": "f517f339-a7e1-4bd5-bff4-fc56d9948a1d",
   "metadata": {},
   "source": [
    "After you label the images then the labels will be available as a list:"
   ]
  },
  {
   "cell_type": "code",
   "execution_count": 5,
   "id": "c79afd96-4f6d-46f8-ab7d-46b5dc6de38e",
   "metadata": {
    "execution": {
     "iopub.execute_input": "2021-10-30T17:31:09.714269Z",
     "iopub.status.busy": "2021-10-30T17:31:09.713495Z",
     "iopub.status.idle": "2021-10-30T17:31:09.725365Z",
     "shell.execute_reply": "2021-10-30T17:31:09.723400Z",
     "shell.execute_reply.started": "2021-10-30T17:31:09.714186Z"
    },
    "tags": []
   },
   "outputs": [
    {
     "name": "stdout",
     "output_type": "stream",
     "text": [
      "['good', 'bad', 'meh', 'bad', 'good']\n"
     ]
    }
   ],
   "source": [
    "print(labeller.labels)"
   ]
  },
  {
   "cell_type": "markdown",
   "id": "7416b621-d9be-4e5d-9600-14f341ee419b",
   "metadata": {},
   "source": [
    "Or as a onehot encoding"
   ]
  },
  {
   "cell_type": "code",
   "execution_count": 6,
   "id": "cca10064-0f61-47c3-b526-5d1330170c61",
   "metadata": {
    "execution": {
     "iopub.execute_input": "2021-10-30T17:31:10.078351Z",
     "iopub.status.busy": "2021-10-30T17:31:10.077252Z",
     "iopub.status.idle": "2021-10-30T17:31:10.091214Z",
     "shell.execute_reply": "2021-10-30T17:31:10.088892Z",
     "shell.execute_reply.started": "2021-10-30T17:31:10.078274Z"
    }
   },
   "outputs": [
    {
     "name": "stdout",
     "output_type": "stream",
     "text": [
      "[[ True False False]\n",
      " [False  True False]\n",
      " [False False  True]\n",
      " [False  True False]\n",
      " [ True False False]]\n"
     ]
    }
   ],
   "source": [
    "print(labeller.labels_onehot)"
   ]
  },
  {
   "cell_type": "code",
   "execution_count": null,
   "id": "253335a9-17ea-4dfd-96a4-580f8593ac1d",
   "metadata": {},
   "outputs": [],
   "source": []
  }
 ],
 "metadata": {
  "kernelspec": {
   "display_name": "Python 3 (ipykernel)",
   "language": "python",
   "name": "python3"
  },
  "language_info": {
   "codemirror_mode": {
    "name": "ipython",
    "version": 3
   },
   "file_extension": ".py",
   "mimetype": "text/x-python",
   "name": "python",
   "nbconvert_exporter": "python",
   "pygments_lexer": "ipython3",
   "version": "3.9.7"
  },
  "widgets": {
   "application/vnd.jupyter.widget-state+json": {
    "state": {
     "2557539adc854d7fa0dd582e8bb8bdb7": {
      "model_module": "jupyter-matplotlib",
      "model_module_version": "^0.10.0",
      "model_name": "ToolbarModel",
      "state": {
       "layout": "IPY_MODEL_f0736304009a4cae826b74f37f2095c5",
       "toolitems": [
        [
         "Home",
         "Reset original view",
         "home",
         "home"
        ],
        [
         "Back",
         "Back to previous view",
         "arrow-left",
         "back"
        ],
        [
         "Forward",
         "Forward to next view",
         "arrow-right",
         "forward"
        ],
        [
         "Pan",
         "Left button pans, Right button zooms\nx/y fixes axis, CTRL fixes aspect",
         "arrows",
         "pan"
        ],
        [
         "Zoom",
         "Zoom to rectangle\nx/y fixes axis, CTRL fixes aspect",
         "square-o",
         "zoom"
        ],
        [
         "Download",
         "Download plot",
         "floppy-o",
         "save_figure"
        ]
       ]
      }
     },
     "30ee7b26b1734500967a0eafd5fc7e03": {
      "model_module": "jupyter-matplotlib",
      "model_module_version": "^0.10.0",
      "model_name": "ToolbarModel",
      "state": {
       "layout": "IPY_MODEL_dcec597203d54d1dbe1fdd0a6b09c78d",
       "toolitems": [
        [
         "Home",
         "Reset original view",
         "home",
         "home"
        ],
        [
         "Back",
         "Back to previous view",
         "arrow-left",
         "back"
        ],
        [
         "Forward",
         "Forward to next view",
         "arrow-right",
         "forward"
        ],
        [
         "Pan",
         "Left button pans, Right button zooms\nx/y fixes axis, CTRL fixes aspect",
         "arrows",
         "pan"
        ],
        [
         "Zoom",
         "Zoom to rectangle\nx/y fixes axis, CTRL fixes aspect",
         "square-o",
         "zoom"
        ],
        [
         "Download",
         "Download plot",
         "floppy-o",
         "save_figure"
        ]
       ]
      }
     },
     "3a8ca3334f8b4bb8ad938f7e9ac11e59": {
      "model_module": "@jupyter-widgets/base",
      "model_module_version": "1.2.0",
      "model_name": "LayoutModel",
      "state": {}
     },
     "48f33dbc8cfc42c5b465aba8144b8ef8": {
      "model_module": "jupyter-matplotlib",
      "model_module_version": "^0.10.0",
      "model_name": "MPLCanvasModel",
      "state": {
       "_figure_label": "Figure 1",
       "_height": 480,
       "_width": 640,
       "layout": "IPY_MODEL_59cf3a39a76146f3bcb9863e3e871598",
       "toolbar": "IPY_MODEL_30ee7b26b1734500967a0eafd5fc7e03",
       "toolbar_position": "left"
      }
     },
     "59cf3a39a76146f3bcb9863e3e871598": {
      "model_module": "@jupyter-widgets/base",
      "model_module_version": "1.2.0",
      "model_name": "LayoutModel",
      "state": {}
     },
     "dcec597203d54d1dbe1fdd0a6b09c78d": {
      "model_module": "@jupyter-widgets/base",
      "model_module_version": "1.2.0",
      "model_name": "LayoutModel",
      "state": {}
     },
     "f0736304009a4cae826b74f37f2095c5": {
      "model_module": "@jupyter-widgets/base",
      "model_module_version": "1.2.0",
      "model_name": "LayoutModel",
      "state": {}
     },
     "f22948123d624f0b9d498a79ba3f8d8d": {
      "model_module": "jupyter-matplotlib",
      "model_module_version": "^0.10.0",
      "model_name": "MPLCanvasModel",
      "state": {
       "_cursor": "default",
       "_figure_label": "Figure 2",
       "_height": 480,
       "_image_mode": "diff",
       "_width": 640,
       "layout": "IPY_MODEL_3a8ca3334f8b4bb8ad938f7e9ac11e59",
       "toolbar": "IPY_MODEL_2557539adc854d7fa0dd582e8bb8bdb7",
       "toolbar_position": "left"
      }
     }
    },
    "version_major": 2,
    "version_minor": 0
   }
  }
 },
 "nbformat": 4,
 "nbformat_minor": 5
}
